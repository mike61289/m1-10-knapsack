{
 "cells": [
  {
   "cell_type": "markdown",
   "metadata": {},
   "source": [
    "## Knapsack Problem\n",
    "\n",
    "The *knapsack problem*:  given a set of integers $S = \\{s_1, s_2, \\ldots, s_n\\}$ and a target number $T$, find a subset (i.e., knapsack) of $S$ which adds up exactly to $T$.  \n",
    "\n",
    "For example, if $S = \\{1,2,5, 9, 10\\}$, there is a subset that adds up to $T = 22$, but not to $T = 23$.  Complete the following tasks related to this problem."
   ]
  },
  {
   "cell_type": "markdown",
   "metadata": {},
   "source": [
    "# 1. \n",
    "\n",
    "Find a subset of $S = \\{1,2,5, 9, 10\\}$ with sum $T = 22$.  Explain the process (algorithm) you used mentally to find the subset.  Then apply the same process in an attempt to find a subset with sum $T = 23$.  \n",
    "\n",
    "How do you know there is no such subset?"
   ]
  },
  {
   "cell_type": "code",
   "execution_count": null,
   "metadata": {},
   "outputs": [],
   "source": [
    "#I look through the values in the set. I see that 1 + 2 + 9 + 10 is the only combination that would give me my target of 22. The subset in this case would be {1,2,9,10}. If I try for 23, I'm again looking through the list. I see that there are no combinations that could equal 23.\n",
    "#Overall, I would be trying to combine my larger numbers first (10 and 9) and then adding the smaller values to see if any combination would be equal to the target eventually. Until then, all combinations would have to be smaller than the target."
   ]
  },
  {
   "cell_type": "markdown",
   "metadata": {
    "collapsed": true
   },
   "source": [
    "# 2.\n",
    "\n",
    "Consider the following possible algorithm for the knapsack problem, written in psuedocode: \n",
    "```python\n",
    "knapsack(S[], T):\n",
    "    K = empty\n",
    "    for each i < size(S)\n",
    "        if sum(K) + S[i] <= T, put S[i] into K\n",
    "    if sum(K) = T, return K, else return False.\n",
    "```\n",
    "**a)** Describe what this algorithm does in English.  \n",
    "\n",
    "**b)** Implement this algorithm in Python and run it on the $S$ and $T$ above.\n",
    "\n",
    "\n",
    "**c)** Prove that this algorithm is NOT correct.  That is, find a counterexample: a set $S$ and number $T$ for which there is a solution, but not one that the algorithm finds.\n",
    "\n",
    "**d)** Verify that this particular $S$ and $T$ does not give the right output when entered to your Python program."
   ]
  },
  {
   "cell_type": "code",
   "execution_count": null,
   "metadata": {},
   "outputs": [],
   "source": [
    "#a) I'm taking in a knapsack function that takes list S and a T value. I have an empty list called K. for every value in my list S that is smaller than the range of the length of the list S, if the sum of the empty list and the index value at S is less than or equal to the desired T value, I add the index value of S into the K. If the sum of values in my K list equals the T value, I return my list of values in K. If nothing equals my T value, it returns false. "
   ]
  },
  {
   "cell_type": "code",
   "execution_count": 1,
   "metadata": {},
   "outputs": [
    {
     "output_type": "execute_result",
     "data": {
      "text/plain": [
       "False"
      ]
     },
     "metadata": {},
     "execution_count": 1
    }
   ],
   "source": [
    "def knapsack(s_list, target):\n",
    "    k = []\n",
    "    for i in range(len(s_list)):\n",
    "        if i <= target:\n",
    "            k.append(s_list[i])\n",
    "    if sum(k) == target:\n",
    "        return k\n",
    "    return False\n",
    "s_list = [1,2,5,9,10]\n",
    "target = 22\n",
    "knapsack(s_list, target)"
   ]
  },
  {
   "cell_type": "code",
   "execution_count": null,
   "metadata": {},
   "outputs": [],
   "source": [
    "#c) This algorithm is wrong because the function is going in order from s_list[0] to s_list[1] and appending the values that way, rather than really trying to find a proper combination of numbers that equal the target."
   ]
  },
  {
   "cell_type": "code",
   "execution_count": 2,
   "metadata": {},
   "outputs": [
    {
     "output_type": "execute_result",
     "data": {
      "text/plain": [
       "False"
      ]
     },
     "metadata": {},
     "execution_count": 2
    }
   ],
   "source": [
    "s_list = [1,2,3,3,3,3,2,4,5,6,19]\n",
    "target = 20\n",
    "knapsack(s_list, target) #still yields the wrong answer as I can get 20 from simply adding 1 + 19"
   ]
  },
  {
   "cell_type": "markdown",
   "metadata": {},
   "source": [
    "# 3. \n",
    "\n",
    "Another try: What if you put the elements in the knapsack from largest to smallest?  Check that this too is not a correct algorithm."
   ]
  },
  {
   "cell_type": "code",
   "execution_count": 3,
   "metadata": {},
   "outputs": [
    {
     "output_type": "execute_result",
     "data": {
      "text/plain": [
       "False"
      ]
     },
     "metadata": {},
     "execution_count": 3
    }
   ],
   "source": [
    "#from example 2\n",
    "def knapsack(s_list, target):\n",
    "    k = []\n",
    "    for i in range(len(s_list)):\n",
    "        if i <= target:\n",
    "            k.append(s_list[i])\n",
    "    if sum(k) == target:\n",
    "        return k\n",
    "    return False\n",
    "s_list = [10, 9, 5, 2, 1] #sorted from biggest to smallest, but still false\n",
    "target = 22\n",
    "knapsack(s_list, target)"
   ]
  },
  {
   "cell_type": "code",
   "execution_count": 4,
   "metadata": {},
   "outputs": [
    {
     "output_type": "execute_result",
     "data": {
      "text/plain": [
       "False"
      ]
     },
     "metadata": {},
     "execution_count": 4
    }
   ],
   "source": [
    "s_list = [19,6,5,4,3,3,3,2,2,1]\n",
    "target = 20\n",
    "knapsack(s_list, target)"
   ]
  },
  {
   "cell_type": "markdown",
   "metadata": {},
   "source": [
    "# 4.\n",
    "\n",
    "Describe a correct algorithm for the knapsack problem (that we haven't seen in class), both in English and in pseudocode.  Then implement the algorithm in Python.  Explain how you know your algorithm is correct (even if it might not be efficient)."
   ]
  },
  {
   "cell_type": "code",
   "execution_count": 5,
   "metadata": {},
   "outputs": [
    {
     "output_type": "execute_result",
     "data": {
      "text/plain": [
       "[(1, 2, 9, 10)]"
      ]
     },
     "metadata": {},
     "execution_count": 5
    }
   ],
   "source": [
    "#I would take my set of numbers and create subsets of those numbers that don't necessarily go in order from s[0] to s[1] to s[2]. I just want my values to add up to the target.\n",
    "'''\n",
    "knapsack(S[], target):\n",
    "    k = empty\n",
    "    create sublists of numbers that can equal target\n",
    "        if the sum of values in sublists = target:\n",
    "            append those values to k\n",
    "    return k\n",
    "'''\n",
    "from itertools import combinations #inspired by Pam :)\n",
    "\n",
    "def good_knapsack(s_list, target):\n",
    "    k = []\n",
    "    for values in range(0, len(s_list)):\n",
    "        for sublists in combinations(s_list, values):\n",
    "            if sum(sublists) == target:\n",
    "                k.append(sublists)\n",
    "    return k\n",
    "s_list = [1,2,5,9,10]\n",
    "target = 22\n",
    "good_knapsack(s_list, target)"
   ]
  },
  {
   "cell_type": "markdown",
   "metadata": {
    "collapsed": true
   },
   "source": [
    "# 5. Generating correct change\n",
    "\n",
    "Now, we will be making change using the fewest coins. \n",
    "\n",
    "Suppose you are a programmer for a vending machine manufacturer. Your company wants to streamline effort by giving out the fewest possible coins in change for each transaction. Suppose a customer puts in a dollar bill and purchases an item for 37 cents. What is the smallest number of coins you can use to make change? The answer is six coins: two quarters, one dime, and three pennies. \n",
    "\n",
    "How did we arrive at the answer of six coins? We start with the largest coin in our arsenal (a quarter) and use as many of those as possible, then we go to the next lowest coin value and use as many of those as possible. This is the greedy algorithm for change-making.\n",
    "\n",
    "**Question:** Write the greedy algorithm for change making.\n",
    "\n",
    "The input is the amount of change to generate (in pennies) and a list of coin sizes (in pennies)\n",
    "\n",
    "The output is the minimum number of coins to gener\n",
    "\n",
    "```\n",
    "# buys with 1 dollar for 37 pennies\n",
    "# Second argument says we can give quarters, dimes, nickels and pennies\n",
    "make_change(100 - 37, [25, 10, 5, 1])\n",
    "\n",
    "# 2 quarters, one dime, and three pennies\n",
    "output --> 6 # Output would be equivalent to the choices [2, 1, 0, 3]\n",
    "```"
   ]
  },
  {
   "cell_type": "code",
   "execution_count": 6,
   "metadata": {},
   "outputs": [
    {
     "output_type": "execute_result",
     "data": {
      "text/plain": [
       "[2, 1, 0, 3]"
      ]
     },
     "metadata": {},
     "execution_count": 6
    }
   ],
   "source": [
    "#help from Pam\n",
    "def change_maker(change, coin_values):\n",
    "    quantity_coins = []\n",
    "    for i, coin in enumerate(coin_values):\n",
    "        if change > 0:\n",
    "            to_give = change // coin\n",
    "            quantity_coins.append(to_give)\n",
    "            change = change % coin\n",
    "    return quantity_coins\n",
    "\n",
    "change = 100 - 37\n",
    "coin_values = [25, 10, 5, 1]\n",
    "change_maker(change, coin_values)"
   ]
  },
  {
   "cell_type": "markdown",
   "metadata": {},
   "source": [
    "# 6 Recursive change\n",
    "\n",
    "Write the greedy change making algorithm using recursion"
   ]
  },
  {
   "cell_type": "code",
   "execution_count": null,
   "metadata": {},
   "outputs": [],
   "source": [
    "quantity_coins = []\n",
    "\n",
    "def change_maker(change, coin_values):\n",
    "    if change > 0:\n",
    "        to_give = change // coin_values[0]\n",
    "        quantity_coins.append(to_give)\n",
    "        change = change % coin_values[0]\n",
    "        coin_values.pop(0)\n",
    "        return change_maker(change, coin_values)\n",
    "    return quantity_coins\n",
    "\n",
    "change = 100 - 37\n",
    "coin_values = [25, 10, 5, 1]\n",
    "change_maker(change, coin_values)"
   ]
  },
  {
   "cell_type": "markdown",
   "metadata": {},
   "source": [
    "# 7 Dynamic Programming Change making\n",
    "\n",
    "Write a solution to the change making problem using dynamic programming.\n",
    "\n",
    "**Hint:** Start with making change for one cent and systematically work its way up to the amount of change we require. This guarantees us that at each step of the algorithm we already know the minimum number of coins needed to make change for any smaller amount. Keep a memoized table of results for each step working up to the amount of change you need to generate."
   ]
  },
  {
   "cell_type": "code",
   "execution_count": null,
   "metadata": {},
   "outputs": [],
   "source": []
  },
  {
   "cell_type": "code",
   "execution_count": null,
   "metadata": {},
   "outputs": [],
   "source": []
  }
 ],
 "metadata": {
  "kernelspec": {
   "display_name": "Python 3",
   "language": "python",
   "name": "python3"
  },
  "language_info": {
   "codemirror_mode": {
    "name": "ipython",
    "version": 3
   },
   "file_extension": ".py",
   "mimetype": "text/x-python",
   "name": "python",
   "nbconvert_exporter": "python",
   "pygments_lexer": "ipython3",
   "version": "3.8.3-final"
  }
 },
 "nbformat": 4,
 "nbformat_minor": 1
}